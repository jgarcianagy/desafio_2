{
 "cells": [
  {
   "cell_type": "markdown",
   "metadata": {},
   "source": [
    "# Desafío n°2"
   ]
  },
  {
   "cell_type": "markdown",
   "metadata": {},
   "source": [
    "#### Grupo A: Barreiro, Roberto; García-Nagy Julián; Machabanski, Martín; Tiraboschi, Carolina"
   ]
  },
  {
   "cell_type": "code",
   "execution_count": 2,
   "metadata": {},
   "outputs": [],
   "source": [
    "import pandas as pd\n",
    "import numpy as np\n",
    "import seaborn as sns"
   ]
  },
  {
   "cell_type": "markdown",
   "metadata": {},
   "source": [
    "Decidimos trabajar sólo con los datos de propiedades correspondientes a CABA "
   ]
  },
  {
   "cell_type": "code",
   "execution_count": 4,
   "metadata": {},
   "outputs": [
    {
     "data": {
      "text/html": [
       "<div>\n",
       "<style scoped>\n",
       "    .dataframe tbody tr th:only-of-type {\n",
       "        vertical-align: middle;\n",
       "    }\n",
       "\n",
       "    .dataframe tbody tr th {\n",
       "        vertical-align: top;\n",
       "    }\n",
       "\n",
       "    .dataframe thead th {\n",
       "        text-align: right;\n",
       "    }\n",
       "</style>\n",
       "<table border=\"1\" class=\"dataframe\">\n",
       "  <thead>\n",
       "    <tr style=\"text-align: right;\">\n",
       "      <th></th>\n",
       "      <th>property_type</th>\n",
       "      <th>place_name</th>\n",
       "      <th>state_name</th>\n",
       "      <th>price_aprox_usd</th>\n",
       "      <th>surface_total_in_m2</th>\n",
       "      <th>surface_covered_in_m2</th>\n",
       "      <th>rooms</th>\n",
       "      <th>description</th>\n",
       "      <th>title</th>\n",
       "      <th>ambientes</th>\n",
       "      <th>gimnasio</th>\n",
       "      <th>terraza</th>\n",
       "      <th>patio</th>\n",
       "      <th>parrilla</th>\n",
       "      <th>salon</th>\n",
       "      <th>laundry</th>\n",
       "      <th>pileta</th>\n",
       "      <th>cochera</th>\n",
       "      <th>tren_subte</th>\n",
       "      <th>cantidad_amenities</th>\n",
       "    </tr>\n",
       "  </thead>\n",
       "  <tbody>\n",
       "    <tr>\n",
       "      <th>0</th>\n",
       "      <td>PH</td>\n",
       "      <td>Mataderos</td>\n",
       "      <td>Capital Federal</td>\n",
       "      <td>62000.0</td>\n",
       "      <td>55.0</td>\n",
       "      <td>40.0</td>\n",
       "      <td>NaN</td>\n",
       "      <td>2 AMBIENTES TIPO CASA PLANTA BAJA POR PASILLO,...</td>\n",
       "      <td>2 AMB TIPO CASA SIN EXPENSAS EN PB</td>\n",
       "      <td>2.0</td>\n",
       "      <td>0</td>\n",
       "      <td>0</td>\n",
       "      <td>1</td>\n",
       "      <td>0</td>\n",
       "      <td>0</td>\n",
       "      <td>0</td>\n",
       "      <td>0</td>\n",
       "      <td>0</td>\n",
       "      <td>0</td>\n",
       "      <td>1</td>\n",
       "    </tr>\n",
       "    <tr>\n",
       "      <th>1</th>\n",
       "      <td>apartment</td>\n",
       "      <td>Mataderos</td>\n",
       "      <td>Capital Federal</td>\n",
       "      <td>72000.0</td>\n",
       "      <td>55.0</td>\n",
       "      <td>55.0</td>\n",
       "      <td>NaN</td>\n",
       "      <td>2 AMBIENTES 3ER PISO LATERAL LIVING COMEDOR AM...</td>\n",
       "      <td>2 AMB 3ER PISO CON ASCENSOR APTO CREDITO</td>\n",
       "      <td>2.0</td>\n",
       "      <td>0</td>\n",
       "      <td>0</td>\n",
       "      <td>0</td>\n",
       "      <td>0</td>\n",
       "      <td>0</td>\n",
       "      <td>0</td>\n",
       "      <td>0</td>\n",
       "      <td>0</td>\n",
       "      <td>0</td>\n",
       "      <td>0</td>\n",
       "    </tr>\n",
       "    <tr>\n",
       "      <th>2</th>\n",
       "      <td>PH</td>\n",
       "      <td>Liniers</td>\n",
       "      <td>Capital Federal</td>\n",
       "      <td>95000.0</td>\n",
       "      <td>NaN</td>\n",
       "      <td>NaN</td>\n",
       "      <td>NaN</td>\n",
       "      <td>PH 3 ambientes con patio. Hay 3 deptos en lote...</td>\n",
       "      <td>PH 3 amb. cfte. reciclado</td>\n",
       "      <td>3.0</td>\n",
       "      <td>0</td>\n",
       "      <td>0</td>\n",
       "      <td>1</td>\n",
       "      <td>0</td>\n",
       "      <td>0</td>\n",
       "      <td>0</td>\n",
       "      <td>0</td>\n",
       "      <td>0</td>\n",
       "      <td>0</td>\n",
       "      <td>1</td>\n",
       "    </tr>\n",
       "  </tbody>\n",
       "</table>\n",
       "</div>"
      ],
      "text/plain": [
       "  property_type place_name       state_name  price_aprox_usd  \\\n",
       "0            PH  Mataderos  Capital Federal          62000.0   \n",
       "1     apartment  Mataderos  Capital Federal          72000.0   \n",
       "2            PH    Liniers  Capital Federal          95000.0   \n",
       "\n",
       "   surface_total_in_m2  surface_covered_in_m2  rooms  \\\n",
       "0                 55.0                   40.0    NaN   \n",
       "1                 55.0                   55.0    NaN   \n",
       "2                  NaN                    NaN    NaN   \n",
       "\n",
       "                                         description  \\\n",
       "0  2 AMBIENTES TIPO CASA PLANTA BAJA POR PASILLO,...   \n",
       "1  2 AMBIENTES 3ER PISO LATERAL LIVING COMEDOR AM...   \n",
       "2  PH 3 ambientes con patio. Hay 3 deptos en lote...   \n",
       "\n",
       "                                      title  ambientes  gimnasio  terraza  \\\n",
       "0        2 AMB TIPO CASA SIN EXPENSAS EN PB        2.0         0        0   \n",
       "1  2 AMB 3ER PISO CON ASCENSOR APTO CREDITO        2.0         0        0   \n",
       "2              PH 3 amb. cfte. reciclado           3.0         0        0   \n",
       "\n",
       "   patio  parrilla  salon  laundry  pileta  cochera  tren_subte  \\\n",
       "0      1         0      0        0       0        0           0   \n",
       "1      0         0      0        0       0        0           0   \n",
       "2      1         0      0        0       0        0           0   \n",
       "\n",
       "   cantidad_amenities  \n",
       "0                   1  \n",
       "1                   0  \n",
       "2                   1  "
      ]
     },
     "execution_count": 4,
     "metadata": {},
     "output_type": "execute_result"
    }
   ],
   "source": [
    "data = pd.read_csv(\"data_desafio2.csv\")\n",
    "data.head(3)"
   ]
  },
  {
   "cell_type": "code",
   "execution_count": 17,
   "metadata": {
    "collapsed": true,
    "jupyter": {
     "outputs_hidden": true
    }
   },
   "outputs": [
    {
     "data": {
      "text/plain": [
       "property_type             object\n",
       "place_name                object\n",
       "state_name                object\n",
       "price_aprox_usd          float64\n",
       "surface_total_in_m2      float64\n",
       "surface_covered_in_m2    float64\n",
       "rooms                    float64\n",
       "description               object\n",
       "title                     object\n",
       "ambientes                float64\n",
       "gimnasio                   int64\n",
       "terraza                    int64\n",
       "patio                      int64\n",
       "parrilla                   int64\n",
       "salon                      int64\n",
       "laundry                    int64\n",
       "pileta                     int64\n",
       "cochera                    int64\n",
       "tren_subte                 int64\n",
       "cantidad_amenities         int64\n",
       "dtype: object"
      ]
     },
     "execution_count": 17,
     "metadata": {},
     "output_type": "execute_result"
    }
   ],
   "source": [
    "data.dtypes"
   ]
  },
  {
   "cell_type": "markdown",
   "metadata": {},
   "source": [
    "Eliminamos las columnas que ya no vamos a pasar a dummies ni vamos a necesitar, como 'state_name', ya que todo este dataframe es solo de CABA"
   ]
  },
  {
   "cell_type": "code",
   "execution_count": 5,
   "metadata": {},
   "outputs": [],
   "source": [
    "dfCABA = data.drop(['state_name','description', 'title', 'rooms'], axis = 1)"
   ]
  },
  {
   "cell_type": "markdown",
   "metadata": {},
   "source": [
    "Dropeamos los nulos en el precio, superficie total y superficie cubierta"
   ]
  },
  {
   "cell_type": "code",
   "execution_count": 6,
   "metadata": {},
   "outputs": [
    {
     "data": {
      "text/plain": [
       "(26187, 16)"
      ]
     },
     "execution_count": 6,
     "metadata": {},
     "output_type": "execute_result"
    }
   ],
   "source": [
    "dfCABA.isnull().sum()\n",
    "df = dfCABA.dropna(axis = 0, subset = ['price_aprox_usd','surface_total_in_m2','surface_covered_in_m2'])\n",
    "df.shape"
   ]
  },
  {
   "cell_type": "markdown",
   "metadata": {},
   "source": [
    "Sacamos las filas con nulos de nuestras columnas para la superficie"
   ]
  },
  {
   "cell_type": "code",
   "execution_count": 7,
   "metadata": {},
   "outputs": [
    {
     "data": {
      "text/plain": [
       "Index(['property_type', 'place_name', 'price_aprox_usd', 'surface_total_in_m2',\n",
       "       'surface_covered_in_m2', 'ambientes', 'gimnasio', 'terraza', 'patio',\n",
       "       'parrilla', 'salon', 'laundry', 'pileta', 'cochera', 'tren_subte',\n",
       "       'cantidad_amenities'],\n",
       "      dtype='object')"
      ]
     },
     "execution_count": 7,
     "metadata": {},
     "output_type": "execute_result"
    }
   ],
   "source": [
    "df.columns"
   ]
  },
  {
   "cell_type": "markdown",
   "metadata": {},
   "source": [
    "Quitamos los Outliers"
   ]
  },
  {
   "cell_type": "code",
   "execution_count": 23,
   "metadata": {},
   "outputs": [
    {
     "name": "stdout",
     "output_type": "stream",
     "text": [
      "(26187, 17)\n",
      "23582\n"
     ]
    },
    {
     "ename": "NameError",
     "evalue": "name 'xprecio' is not defined",
     "output_type": "error",
     "traceback": [
      "\u001b[1;31m---------------------------------------------------------------------------\u001b[0m",
      "\u001b[1;31mNameError\u001b[0m                                 Traceback (most recent call last)",
      "\u001b[1;32m<ipython-input-23-302fce703cb2>\u001b[0m in \u001b[0;36m<module>\u001b[1;34m\u001b[0m\n\u001b[0;32m     13\u001b[0m \u001b[0mprint\u001b[0m\u001b[1;33m(\u001b[0m\u001b[0mdf\u001b[0m\u001b[1;33m.\u001b[0m\u001b[0mshape\u001b[0m\u001b[1;33m)\u001b[0m\u001b[1;33m\u001b[0m\u001b[1;33m\u001b[0m\u001b[0m\n\u001b[0;32m     14\u001b[0m \u001b[0mprint\u001b[0m\u001b[1;33m(\u001b[0m\u001b[0mmask\u001b[0m\u001b[1;33m.\u001b[0m\u001b[0msum\u001b[0m\u001b[1;33m(\u001b[0m\u001b[1;33m)\u001b[0m\u001b[1;33m)\u001b[0m\u001b[1;33m\u001b[0m\u001b[1;33m\u001b[0m\u001b[0m\n\u001b[1;32m---> 15\u001b[1;33m \u001b[0mprint\u001b[0m\u001b[1;33m(\u001b[0m\u001b[0mxprecio\u001b[0m\u001b[1;33m.\u001b[0m\u001b[0mshape\u001b[0m\u001b[1;33m)\u001b[0m\u001b[1;33m\u001b[0m\u001b[1;33m\u001b[0m\u001b[0m\n\u001b[0m\u001b[0;32m     16\u001b[0m \u001b[0mprint\u001b[0m\u001b[1;33m(\u001b[0m\u001b[0mxsup_total\u001b[0m\u001b[1;33m.\u001b[0m\u001b[0mshape\u001b[0m\u001b[1;33m)\u001b[0m\u001b[1;33m\u001b[0m\u001b[1;33m\u001b[0m\u001b[0m\n\u001b[0;32m     17\u001b[0m \u001b[0mprint\u001b[0m\u001b[1;33m(\u001b[0m\u001b[0mxsup_cubierta\u001b[0m\u001b[1;33m.\u001b[0m\u001b[0mshape\u001b[0m\u001b[1;33m)\u001b[0m\u001b[1;33m\u001b[0m\u001b[1;33m\u001b[0m\u001b[0m\n",
      "\u001b[1;31mNameError\u001b[0m: name 'xprecio' is not defined"
     ]
    }
   ],
   "source": [
    "columnas = ['price_aprox_usd', 'surface_total_in_m2','surface_covered_in_m2','ambientes']\n",
    "df_reducido = df[columnas]\n",
    "df.corr()\n",
    "\n",
    "x =  df.price_aprox_usd\n",
    "mask = x.between(x.quantile(.05),x.quantile(.95))\n",
    "x =  df.surface_total_in_m2\n",
    "mask_sup_total = x.between(x.quantile(.05),x.quantile(.95))\n",
    "x =  df.surface_covered_in_m2\n",
    "mask_sup_cubierta = x.between(x.quantile(.05),x.quantile(.95))\n",
    "datos = df[mask & mask_sup_total & mask_sup_cubierta]\n",
    "\n",
    "print(df.shape)\n",
    "print(mask.sum())\n",
    "print(xprecio.shape)\n",
    "print(xsup_total.shape)\n",
    "print(xsup_cubierta.shape)\n",
    "datos.shape"
   ]
  },
  {
   "cell_type": "code",
   "execution_count": 9,
   "metadata": {},
   "outputs": [
    {
     "data": {
      "text/plain": [
       "property_type               0\n",
       "place_name                  0\n",
       "price_aprox_usd             0\n",
       "surface_total_in_m2         0\n",
       "surface_covered_in_m2       0\n",
       "ambientes                7950\n",
       "gimnasio                    0\n",
       "terraza                     0\n",
       "patio                       0\n",
       "parrilla                    0\n",
       "salon                       0\n",
       "laundry                     0\n",
       "pileta                      0\n",
       "cochera                     0\n",
       "tren_subte                  0\n",
       "cantidad_amenities          0\n",
       "dtype: int64"
      ]
     },
     "execution_count": 9,
     "metadata": {},
     "output_type": "execute_result"
    }
   ],
   "source": [
    "df.isnull().sum()\n",
    "#todavía mantenemos los ambientes que tienen bastantes nulos para luego ver \n",
    "#si podemos probar un modelo en el que dropiemos los nulos y ver cuánto afecta "
   ]
  },
  {
   "cell_type": "markdown",
   "metadata": {},
   "source": [
    "Agrupamos en 8 zonas los valores de la columna place_name, seleccionando propuestas de divisiones de paginas de inmobiliarias. Tambien luego se pueden ver modelos que tomen como dataframe una zona en particular. "
   ]
  },
  {
   "cell_type": "code",
   "execution_count": 10,
   "metadata": {},
   "outputs": [],
   "source": [
    "barrios_caba_mapper = {\n",
    "    'Abasto' : 'Eje central',\n",
    "    'Agronomía' : 'Corredor Noroeste',\n",
    "    'Almagro' : 'Eje central',\n",
    "    'Balvanera' : 'Eje central',\n",
    "    'Barracas' : 'Sur Este',\n",
    "    'Barrio Norte' : 'Corredor Norte',\n",
    "    'Belgrano' : 'Corredor Norte',\n",
    "    'Boca' : 'Sur Este',\n",
    "    'Boedo' : 'Eje central',\n",
    "    'Capital Federal' : 'Sin determinar zona',\n",
    "    'Catalinas' : 'Corredor Norte',\n",
    "    'Centro / Microcentro' : 'Macrocentro',\n",
    "    'Chacarita' : 'Corredor Noroeste',\n",
    "    'Coghlan' : 'Corredor Norte',\n",
    "    'Constitución' : 'Sur Este',\n",
    "    'Floresta' : 'Oeste',\n",
    "    'Las Cañitas' : 'Corredor Norte',\n",
    "    'Liniers' : 'Oeste',\n",
    "    'Monserrat' : 'Macrocentro',\n",
    "    'Monte Castro' : 'Noroeste',\n",
    "    'Nuñez' : 'Corredor Norte',\n",
    "    'Once' : 'Eje central',\n",
    "    'Palermo' : 'Corredor Norte',\n",
    "    'Palermo Chico' : 'Corredor Norte',\n",
    "    'Palermo Hollywood' : 'Corredor Norte',\n",
    "    'Palermo Soho' : 'Corredor Norte',\n",
    "    'Palermo Viejo' : 'Corredor Norte',\n",
    "    'Parque Avellaneda' : 'Oeste',\n",
    "    'Parque Centenario' : 'Eje central',\n",
    "    'Parque Chacabuco' : 'Eje central',\n",
    "    'Parque Chas' : 'Corredor Noroeste',\n",
    "    'Parque Patricios' : 'Sur Este',\n",
    "    'Paternal' : 'Corredor Noroeste',\n",
    "    'Puerto Madero' : 'Macrocentro',\n",
    "    'Recoleta' : 'Corredor Norte',\n",
    "    'Saavedra' : 'Corredor Norte',\n",
    "    'San Cristobal' : 'Sur Este',\n",
    "    'San Nicolás' : 'Macrocentro',\n",
    "    'San Telmo' : 'Macrocentro',\n",
    "    'Tribunales' : 'Macrocentro',\n",
    "    'Velez Sarsfield' : 'Oeste',\n",
    "    'Versalles' : 'Oeste',\n",
    "    'Villa Crespo' : 'Corredor Noroeste',\n",
    "    'Villa del Parque' : 'Noroeste',\n",
    "    'Villa General Mitre' : 'Noroeste',\n",
    "    'Villa Lugano' : 'Sur',\n",
    "    'Villa Luro' : 'Oeste',\n",
    "    'Villa Ortuzar' : 'Corredor Noroeste',\n",
    "    'Villa Pueyrredón' : 'Noroeste',\n",
    "    'Villa Real' : 'Oeste',\n",
    "    'Villa Riachuelo' : 'Sur',\n",
    "    'Villa Santa Rita' : 'Noroeste',\n",
    "    'Villa Soldati' : 'Sur',\n",
    "    'Villa Urquiza' : 'Corredor Noroeste', \n",
    "    'Caballito' : 'Eje central',\n",
    "    'Colegiales' : 'Corredor Norte',\n",
    "    'Congreso' : 'Macrocentro',\n",
    "    'Flores' : 'Eje central',\n",
    "    'Mataderos' : 'Oeste',\n",
    "    'Pompeya' : 'Sur',\n",
    "    'Retiro' : 'Corredor Norte',\n",
    "    'Villa Devoto' : 'Noroeste'\n",
    "\n",
    "}"
   ]
  },
  {
   "cell_type": "code",
   "execution_count": 11,
   "metadata": {},
   "outputs": [
    {
     "name": "stderr",
     "output_type": "stream",
     "text": [
      "D:\\conda\\envs\\dhdsblend\\lib\\site-packages\\ipykernel_launcher.py:2: SettingWithCopyWarning: \n",
      "A value is trying to be set on a copy of a slice from a DataFrame.\n",
      "Try using .loc[row_indexer,col_indexer] = value instead\n",
      "\n",
      "See the caveats in the documentation: https://pandas.pydata.org/pandas-docs/stable/user_guide/indexing.html#returning-a-view-versus-a-copy\n",
      "  \n"
     ]
    }
   ],
   "source": [
    "#creamos la columna zonas que va a dividir en 8 zonas inmobiliarias la capital\n",
    "df['zonas'] = df['place_name'].map(barrios_caba_mapper)\n"
   ]
  },
  {
   "cell_type": "markdown",
   "metadata": {},
   "source": [
    "Creamos un nuevo dataframe que genere dummies de todas las variables categóricas "
   ]
  },
  {
   "cell_type": "code",
   "execution_count": 13,
   "metadata": {},
   "outputs": [],
   "source": [
    "df.property_type.unique()\n",
    "df_dummies =  pd.get_dummies(df, drop_first = True)"
   ]
  },
  {
   "cell_type": "markdown",
   "metadata": {},
   "source": [
    "Definimos funciones para luego probar modelos de regresión. Primero una regresion lineal, luego regularizada por ridge y por lasso. En todos los casos la funcion recibe un dataframe y las columnas features y va a imprimir las metricas (errores y R2) para cada modelo. Estos modelos los vamos a alimentar de diferentes formas, cambiando las columnas ingresadas como features y los hiperparámetros. Tambien se pueden probar diferentes filtros de partes del dataset.   "
   ]
  },
  {
   "cell_type": "code",
   "execution_count": 1,
   "metadata": {},
   "outputs": [],
   "source": [
    "from sklearn.model_selection import train_test_split\n",
    "from sklearn import metrics\n",
    "from sklearn.linear_model import LinearRegression\n",
    "\n",
    "def train_test_error(df1,feature_cols):\n",
    "    X = df1[feature_cols]\n",
    "    y = df1.price_aprox_usd\n",
    "    #dividimos entrenamiento y prueba\n",
    "    X_train, X_test, y_train, y_test = train_test_split(X, y)\n",
    "    #seleccionamos el modelo\n",
    "    linreg = LinearRegression()\n",
    "    #entrenamos el modelo\n",
    "    linreg.fit(X_train, y_train)\n",
    "    #predecimos los resultados \n",
    "    y_pred = linreg.predict(X_test)\n",
    "    \n",
    "    #mostramos las metricas del modelo y las features utilizadas\n",
    "    # print (feature_cols) Esta linea es por si queremos ver qué columnas le estamos pasando\n",
    "    \n",
    "    print ('MAE:', metrics.mean_absolute_error(y_test, y_pred))\n",
    "    print ('MSE:', metrics.mean_squared_error(y_test, y_pred))\n",
    "    print ('RMSE:', np.sqrt(metrics.mean_squared_error(y_test, y_pred)))\n",
    "    print ('R2:', metrics.r2_score(y_test, y_pred))\n",
    "    print ()\n",
    "    return "
   ]
  },
  {
   "cell_type": "code",
   "execution_count": 15,
   "metadata": {},
   "outputs": [],
   "source": [
    "from sklearn import linear_model\n",
    "from sklearn.metrics import r2_score\n",
    "\n",
    "def train_test_ridge(df1,feature_cols):\n",
    "    X = df1[feature_cols]\n",
    "    y = df1.price_aprox_usd\n",
    "    \n",
    "    X_train, X_test, y_train, y_test = train_test_split(X, y)\n",
    "    lm_ridge = linear_model.RidgeCV(alphas=v, normalize=True) \n",
    "    # Definimos el rango de de búsqueda del hiperparametro explicitamente\n",
    "    model_2 = lm_ridge.fit(X_train, y_train)\n",
    "    y_pred = model_2.predict(X_test)\n",
    "    \n",
    "    print (feature_cols)\n",
    "    print('Score model_2:', model_2.score(X_test, y_test))\n",
    "    \n",
    "    print ('MAE:', metrics.mean_absolute_error(y_test, y_pred))\n",
    "    print ('MSE:', metrics.mean_squared_error(y_test, y_pred))\n",
    "    print ('RMSE:', np.sqrt(metrics.mean_squared_error(y_test, y_pred)))\n",
    "    print ('R2:', metrics.r2_score(y_test, y_pred))\n",
    "    print ('alpha', lm_ridge.alpha_)\n",
    "    return\n",
    "\n"
   ]
  },
  {
   "cell_type": "code",
   "execution_count": 16,
   "metadata": {},
   "outputs": [],
   "source": [
    "\n",
    "def train_test_lasso(df1,feature_cols):\n",
    "    X = df1[feature_cols]\n",
    "    y = df1.price_aprox_usd\n",
    "    \n",
    "    X_train, X_test, y_train, y_test = train_test_split(X, y)    \n",
    "    \n",
    "    lm_lasso = linear_model.LassoCV(alphas=[0.1, 1, 10],normalize=True, cv=3)\n",
    "    \n",
    "    model = lm_lasso.fit(X_train, y_train)\n",
    "    y_pred = model.predict(X_test)\n",
    "    \n",
    "    #scores = cross_val_score(model, X_train, y_train, cv=cv, scoring='r2')\n",
    "    #print(dict(alpha=model.alpha_, scores=scores, mean_score=scores.mean(), zero_coefs=(model.coef_ == 0).sum()))\n",
    "    \n",
    "    print (feature_cols)\n",
    "    print('Score model:', model.score(X_test, y_test))\n",
    "    \n",
    "    print ('MAE:', metrics.mean_absolute_error(y_test, y_pred))\n",
    "    print ('MSE:', metrics.mean_squared_error(y_test, y_pred))\n",
    "    print ('RMSE:', np.sqrt(metrics.mean_squared_error(y_test, y_pred)))\n",
    "    print ('R2:', metrics.r2_score(y_test, y_pred))\n",
    "    print ('alpha', model.alpha_)\n",
    "    return"
   ]
  },
  {
   "cell_type": "code",
   "execution_count": 17,
   "metadata": {},
   "outputs": [
    {
     "data": {
      "text/plain": [
       "Index(['property_type', 'place_name', 'price_aprox_usd', 'surface_total_in_m2',\n",
       "       'surface_covered_in_m2', 'ambientes', 'gimnasio', 'terraza', 'patio',\n",
       "       'parrilla', 'salon', 'laundry', 'pileta', 'cochera', 'tren_subte',\n",
       "       'cantidad_amenities', 'zonas'],\n",
       "      dtype='object')"
      ]
     },
     "execution_count": 17,
     "metadata": {},
     "output_type": "execute_result"
    }
   ],
   "source": [
    "df.columns"
   ]
  },
  {
   "cell_type": "code",
   "execution_count": 18,
   "metadata": {},
   "outputs": [],
   "source": [
    "cols1 = ['surface_total_in_m2','surface_covered_in_m2']\n",
    "df_dummies.drop(columns = 'ambientes', inplace = True)"
   ]
  },
  {
   "cell_type": "code",
   "execution_count": 19,
   "metadata": {},
   "outputs": [],
   "source": [
    "mask_cols = df_dummies.columns != 'price_aprox_usd'\n",
    "columnas = df_dummies.columns[mask_cols]"
   ]
  },
  {
   "cell_type": "code",
   "execution_count": 20,
   "metadata": {},
   "outputs": [
    {
     "name": "stdout",
     "output_type": "stream",
     "text": [
      "MAE: 148235.81750809675\n",
      "MSE: 98348281788.22842\n",
      "RMSE: 313605.29617375473\n",
      "R2: 0.2520599951633683\n",
      "\n"
     ]
    }
   ],
   "source": [
    "train_test_error(df_dummies,columnas)"
   ]
  },
  {
   "cell_type": "code",
   "execution_count": 21,
   "metadata": {},
   "outputs": [
    {
     "ename": "NameError",
     "evalue": "name 'v' is not defined",
     "output_type": "error",
     "traceback": [
      "\u001b[1;31m---------------------------------------------------------------------------\u001b[0m",
      "\u001b[1;31mNameError\u001b[0m                                 Traceback (most recent call last)",
      "\u001b[1;32m<ipython-input-21-e14324b09ad3>\u001b[0m in \u001b[0;36m<module>\u001b[1;34m\u001b[0m\n\u001b[1;32m----> 1\u001b[1;33m \u001b[0mprint\u001b[0m\u001b[1;33m(\u001b[0m\u001b[0mtrain_test_ridge\u001b[0m\u001b[1;33m(\u001b[0m\u001b[0mdf_dummies\u001b[0m\u001b[1;33m,\u001b[0m\u001b[0mcolumnas\u001b[0m\u001b[1;33m)\u001b[0m\u001b[1;33m)\u001b[0m\u001b[1;33m\u001b[0m\u001b[1;33m\u001b[0m\u001b[0m\n\u001b[0m",
      "\u001b[1;32m<ipython-input-15-b907f5a9e966>\u001b[0m in \u001b[0;36mtrain_test_ridge\u001b[1;34m(df1, feature_cols)\u001b[0m\n\u001b[0;32m      7\u001b[0m \u001b[1;33m\u001b[0m\u001b[0m\n\u001b[0;32m      8\u001b[0m     \u001b[0mX_train\u001b[0m\u001b[1;33m,\u001b[0m \u001b[0mX_test\u001b[0m\u001b[1;33m,\u001b[0m \u001b[0my_train\u001b[0m\u001b[1;33m,\u001b[0m \u001b[0my_test\u001b[0m \u001b[1;33m=\u001b[0m \u001b[0mtrain_test_split\u001b[0m\u001b[1;33m(\u001b[0m\u001b[0mX\u001b[0m\u001b[1;33m,\u001b[0m \u001b[0my\u001b[0m\u001b[1;33m)\u001b[0m\u001b[1;33m\u001b[0m\u001b[1;33m\u001b[0m\u001b[0m\n\u001b[1;32m----> 9\u001b[1;33m     \u001b[0mlm_ridge\u001b[0m \u001b[1;33m=\u001b[0m \u001b[0mlinear_model\u001b[0m\u001b[1;33m.\u001b[0m\u001b[0mRidgeCV\u001b[0m\u001b[1;33m(\u001b[0m\u001b[0malphas\u001b[0m\u001b[1;33m=\u001b[0m\u001b[0mv\u001b[0m\u001b[1;33m,\u001b[0m \u001b[0mnormalize\u001b[0m\u001b[1;33m=\u001b[0m\u001b[1;32mTrue\u001b[0m\u001b[1;33m)\u001b[0m\u001b[1;33m\u001b[0m\u001b[1;33m\u001b[0m\u001b[0m\n\u001b[0m\u001b[0;32m     10\u001b[0m     \u001b[1;31m# Definimos el rango de de búsqueda del hiperparametro explicitamente\u001b[0m\u001b[1;33m\u001b[0m\u001b[1;33m\u001b[0m\u001b[1;33m\u001b[0m\u001b[0m\n\u001b[0;32m     11\u001b[0m     \u001b[0mmodel_2\u001b[0m \u001b[1;33m=\u001b[0m \u001b[0mlm_ridge\u001b[0m\u001b[1;33m.\u001b[0m\u001b[0mfit\u001b[0m\u001b[1;33m(\u001b[0m\u001b[0mX_train\u001b[0m\u001b[1;33m,\u001b[0m \u001b[0my_train\u001b[0m\u001b[1;33m)\u001b[0m\u001b[1;33m\u001b[0m\u001b[1;33m\u001b[0m\u001b[0m\n",
      "\u001b[1;31mNameError\u001b[0m: name 'v' is not defined"
     ]
    }
   ],
   "source": [
    "print(train_test_ridge(df_dummies,columnas))\n"
   ]
  },
  {
   "cell_type": "code",
   "execution_count": 22,
   "metadata": {},
   "outputs": [
    {
     "name": "stderr",
     "output_type": "stream",
     "text": [
      "D:\\conda\\envs\\dhdsblend\\lib\\site-packages\\sklearn\\linear_model\\_coordinate_descent.py:472: ConvergenceWarning: Objective did not converge. You might want to increase the number of iterations. Duality gap: 277728155210041.75, tolerance: 161646154543.98517\n",
      "  tol, rng, random, positive)\n",
      "D:\\conda\\envs\\dhdsblend\\lib\\site-packages\\sklearn\\linear_model\\_coordinate_descent.py:472: ConvergenceWarning: Objective did not converge. You might want to increase the number of iterations. Duality gap: 415681128117384.7, tolerance: 161646154543.98517\n",
      "  tol, rng, random, positive)\n",
      "D:\\conda\\envs\\dhdsblend\\lib\\site-packages\\sklearn\\linear_model\\_coordinate_descent.py:472: ConvergenceWarning: Objective did not converge. You might want to increase the number of iterations. Duality gap: 172884169870259.7, tolerance: 159049985162.90195\n",
      "  tol, rng, random, positive)\n",
      "D:\\conda\\envs\\dhdsblend\\lib\\site-packages\\sklearn\\linear_model\\_coordinate_descent.py:472: ConvergenceWarning: Objective did not converge. You might want to increase the number of iterations. Duality gap: 416728734187127.44, tolerance: 159049985162.90195\n",
      "  tol, rng, random, positive)\n"
     ]
    },
    {
     "name": "stdout",
     "output_type": "stream",
     "text": [
      "Index(['surface_total_in_m2', 'surface_covered_in_m2', 'gimnasio', 'terraza',\n",
      "       'patio', 'parrilla', 'salon', 'laundry', 'pileta', 'cochera',\n",
      "       'tren_subte', 'cantidad_amenities', 'property_type_apartment',\n",
      "       'property_type_house', 'property_type_store', 'place_name_Agronomía',\n",
      "       'place_name_Almagro', 'place_name_Balvanera', 'place_name_Barracas',\n",
      "       'place_name_Barrio Norte', 'place_name_Belgrano', 'place_name_Boca',\n",
      "       'place_name_Boedo', 'place_name_Caballito',\n",
      "       'place_name_Capital Federal', 'place_name_Catalinas',\n",
      "       'place_name_Centro / Microcentro', 'place_name_Chacarita',\n",
      "       'place_name_Coghlan', 'place_name_Colegiales', 'place_name_Congreso',\n",
      "       'place_name_Constitución', 'place_name_Flores', 'place_name_Floresta',\n",
      "       'place_name_Las Cañitas', 'place_name_Liniers', 'place_name_Mataderos',\n",
      "       'place_name_Monserrat', 'place_name_Monte Castro', 'place_name_Nuñez',\n",
      "       'place_name_Once', 'place_name_Palermo', 'place_name_Palermo Chico',\n",
      "       'place_name_Palermo Hollywood', 'place_name_Palermo Soho',\n",
      "       'place_name_Palermo Viejo', 'place_name_Parque Avellaneda',\n",
      "       'place_name_Parque Centenario', 'place_name_Parque Chacabuco',\n",
      "       'place_name_Parque Chas', 'place_name_Parque Patricios',\n",
      "       'place_name_Paternal', 'place_name_Pompeya', 'place_name_Puerto Madero',\n",
      "       'place_name_Recoleta', 'place_name_Retiro', 'place_name_Saavedra',\n",
      "       'place_name_San Cristobal', 'place_name_San Nicolás',\n",
      "       'place_name_San Telmo', 'place_name_Tribunales',\n",
      "       'place_name_Velez Sarsfield', 'place_name_Versalles',\n",
      "       'place_name_Villa Crespo', 'place_name_Villa Devoto',\n",
      "       'place_name_Villa General Mitre', 'place_name_Villa Lugano',\n",
      "       'place_name_Villa Luro', 'place_name_Villa Ortuzar',\n",
      "       'place_name_Villa Pueyrredón', 'place_name_Villa Real',\n",
      "       'place_name_Villa Riachuelo', 'place_name_Villa Santa Rita',\n",
      "       'place_name_Villa Soldati', 'place_name_Villa Urquiza',\n",
      "       'place_name_Villa del Parque', 'zonas_Corredor Norte',\n",
      "       'zonas_Eje central', 'zonas_Macrocentro', 'zonas_Noroeste',\n",
      "       'zonas_Oeste', 'zonas_Sin determinar zona', 'zonas_Sur',\n",
      "       'zonas_Sur Este'],\n",
      "      dtype='object')\n",
      "Score model: 0.2472664395898312\n",
      "MAE: 153729.43505944064\n",
      "MSE: 109877987363.18709\n",
      "RMSE: 331478.4870292295\n",
      "R2: 0.2472664395898312\n",
      "alpha 10.0\n",
      "None\n"
     ]
    }
   ],
   "source": [
    "print(train_test_lasso(df_dummies,columnas))"
   ]
  }
 ],
 "metadata": {
  "kernelspec": {
   "display_name": "Python 3",
   "language": "python",
   "name": "python3"
  },
  "language_info": {
   "codemirror_mode": {
    "name": "ipython",
    "version": 3
   },
   "file_extension": ".py",
   "mimetype": "text/x-python",
   "name": "python",
   "nbconvert_exporter": "python",
   "pygments_lexer": "ipython3",
   "version": "3.7.7"
  }
 },
 "nbformat": 4,
 "nbformat_minor": 4
}
